{
 "cells": [
  {
   "cell_type": "code",
   "execution_count": 1,
   "metadata": {},
   "outputs": [],
   "source": [
    "# Kaggle: Coding AutoML with Rachel(youtube video)"
   ]
  },
  {
   "cell_type": "code",
   "execution_count": null,
   "metadata": {
    "_cell_guid": "79c7e3d0-c299-4dcb-8224-4455121ee9b0",
    "_uuid": "d629ff2d2480ee46fbb7e2d37f6b5fab8052498a",
    "collapsed": true,
    "jupyter": {
     "outputs_hidden": true
    }
   },
   "outputs": [],
   "source": [
    "# Importing libraries \n",
    "from tpot import TPOTClassifier\n",
    "from sklearn.datasets import load_iris\n",
    "from sklearn.model_selection import train_test_split"
   ]
  },
  {
   "cell_type": "code",
   "execution_count": null,
   "metadata": {
    "collapsed": true,
    "jupyter": {
     "outputs_hidden": true
    }
   },
   "outputs": [],
   "source": [
    "import pandas as pd \n",
    "import numpy as np\n",
    "import category_encoders as ce\n"
   ]
  },
  {
   "cell_type": "code",
   "execution_count": null,
   "metadata": {},
   "outputs": [],
   "source": [
    "df = pd.read_csv(\"../input/kaggle-survey-2018/multipleChoiceResponses.csv\")"
   ]
  },
  {
   "cell_type": "code",
   "execution_count": null,
   "metadata": {},
   "outputs": [],
   "source": [
    "df.head()\n",
    "\n",
    "# Q6 = Jobtitle \n",
    "# Q4 = Level of eductaion (lab enconder)\n",
    "# Q7 = Industry (one hot )\n",
    "# Q8 = Years of Experience (make numaeric)\n",
    "# Q9 = Comp want to drop (Make numeric)\n",
    "# Q10 = degree to which business uses ML \n",
    "# Q11 = all parts to 1-hot and  drop other_txt\n",
    "# Q12 = tools used in job (one hot)\n",
    "# Q15 = cloud services (one hot)\n",
    "# Q16 = programming languanges (one hot)\n",
    "# Q19 = Deep learning (one_hot)"
   ]
  },
  {
   "cell_type": "code",
   "execution_count": null,
   "metadata": {},
   "outputs": [],
   "source": [
    "df['Q6'].value_counts()"
   ]
  },
  {
   "cell_type": "code",
   "execution_count": null,
   "metadata": {},
   "outputs": [],
   "source": [
    "# Only use popular titles \n",
    "popular_titles = df['Q6'].value_counts() >500\n",
    "popular_titles = popular_titles[popular_titles == True]\n",
    "#df = df.drop(popular_titles)\n",
    "popular_titles = popular_titles.index.tolist()\n",
    "\n",
    "unwanted_titles  = {'Student', 'Not employed', 'Other'}\n",
    "\n",
    "popular_titles = [j for j in popular_titles if j not in unwanted_titles]\n",
    "\n",
    "# drop less popular titles \n",
    "indexNames = df[df.Q6.isin(popular_titles)].index\n",
    "df.drop(indexNames, inplace=True)\n",
    "\n",
    "#filter out numbers only rows from q9 column \n",
    "indexNames = df[-df['Q9'].str.contains('0', regex= True, na=False)].index\n",
    "df.drop(indexNames, inplace = True)"
   ]
  },
  {
   "cell_type": "code",
   "execution_count": null,
   "metadata": {},
   "outputs": [],
   "source": [
    "all_variables ={'Q6','Q4','Q7','Q8','Q9','Q19','Q10','Q11','Q12','Q15','Q16', 'Q19'}\n",
    "df_subsample = df.filter(all_variables)\n",
    "df_subsample.shape"
   ]
  },
  {
   "cell_type": "code",
   "execution_count": null,
   "metadata": {},
   "outputs": [],
   "source": [
    "df_subsample.head().T"
   ]
  },
  {
   "cell_type": "code",
   "execution_count": null,
   "metadata": {},
   "outputs": [],
   "source": [
    "\n",
    "#df[['Q6','Q4','Q7','Q8','Q9','Q19','Q10','Q11','Q12','Q15','Q16', 'Q19']]\n",
    "\n",
    "#all_variable ={'Q6','Q4','Q7','Q8','Q9','Q19','Q10','Q11','Q12','Q15','Q16', 'Q19'}\n",
    "\n",
    "import category_encoders as ce\n",
    "X  = df_subsample.drop(\"Q6\", axis=1)\n",
    "y  = df_subsample['Q6']\n",
    "\n",
    "\n",
    "#encoder = ce.OneHotEncoder(cols= [\"Q7\"])\n",
    "encoder  =ce.OrdinalEncoder(cols=[\"Q4\",\"Q10\",\"Q8\",\"Q9\"])\n",
    "\n",
    "\n",
    "encoder.fit(X,y)\n",
    "X_cleaned = encoder.transform(X)\n",
    "\n",
    "encoder = ce.OneHotEncoder(cols= [\"Q7\"])\n",
    "\n",
    "encoder.fit(X,y)\n",
    "X_cleaned = encoder.transform(X_cleaned)"
   ]
  },
  {
   "cell_type": "code",
   "execution_count": null,
   "metadata": {},
   "outputs": [],
   "source": [
    "X_cleaned"
   ]
  },
  {
   "cell_type": "code",
   "execution_count": null,
   "metadata": {
    "collapsed": true,
    "jupyter": {
     "outputs_hidden": true
    }
   },
   "outputs": [],
   "source": [
    "#df.head()\n",
    "\n",
    "# Q6 = Jobtitle \n",
    "# Q4 = Level of eductaion (lab enconder)\n",
    "# Q7 = Industry (one hot )\n",
    "# Q8 = Years of Experience (make numaeric)\n",
    "# Q9 = Comp want to drop (Make numeric)\n",
    "# Q10 = degree to which business uses ML \n",
    "# Q11 = all parts to 1-hot and  drop other_txt\n",
    "# Q12 = tools used in job (one hot)\n",
    "# Q15 = cloud services (one hot)\n",
    "# Q16 = programming languanges (one hot)\n",
    "# Q19 = Deep learning (one_hot)"
   ]
  },
  {
   "cell_type": "code",
   "execution_count": null,
   "metadata": {
    "collapsed": true,
    "jupyter": {
     "outputs_hidden": true
    }
   },
   "outputs": [],
   "source": []
  },
  {
   "cell_type": "code",
   "execution_count": null,
   "metadata": {
    "_cell_guid": "be1d7018-c152-4488-8e66-ed068a172299",
    "_uuid": "937e9c74dd2cd6a9bcef0da330ff449098aad90b"
   },
   "outputs": [],
   "source": [
    "# Loading data\n",
    "iris = load_iris()\n",
    "iris.data[0:5], iris.target"
   ]
  },
  {
   "cell_type": "code",
   "execution_count": null,
   "metadata": {
    "_cell_guid": "f633e9c2-85a8-4a47-8334-f6bbb243449c",
    "_uuid": "3bc178a2be5c09542a5655ebb1a3273f3bb7b068"
   },
   "outputs": [],
   "source": [
    "# Splitting data into training and test set\n",
    "X_train, X_test, y_train, y_test = train_test_split(X_cleaned, y,\n",
    "                                                    train_size=0.80, test_size=0.20)\n",
    "X_train.shape, X_test.shape, y_train.shape, y_test.shape"
   ]
  },
  {
   "cell_type": "code",
   "execution_count": null,
   "metadata": {
    "_cell_guid": "347196bf-81e7-4114-8394-619a61278993",
    "_uuid": "e19d70b16755f4d338e27f17d4320dacf1fd9628",
    "scrolled": true
   },
   "outputs": [],
   "source": [
    "tpot = TPOTClassifier(generations=8, population_size=50, verbosity=2, early_stop=2)\n",
    "tpot.fit(X_train, y_train)\n",
    "print(\"Accuracy is {}%\".format(tpot.score(X_test, y_test)*100))"
   ]
  },
  {
   "cell_type": "markdown",
   "metadata": {
    "_cell_guid": "e9bb124d-b73d-4cc2-90e4-f7d2ecd91673",
    "_uuid": "dc54718db93fbfd616e0f10c8d2f70a5920bb762"
   },
   "source": [
    "**You can also export the optimized model as output in a .py file. Check the output section to view the file and see the chosen model.**\n",
    "\n",
    "**Due to genetic programming, the resulting model can be different every time you run the model**"
   ]
  },
  {
   "cell_type": "code",
   "execution_count": null,
   "metadata": {
    "_cell_guid": "c2258444-bc11-41c1-989f-0dc185159518",
    "_uuid": "7778219649b98a286b0483033fbee0cb989a3f7a",
    "collapsed": true,
    "jupyter": {
     "outputs_hidden": true
    }
   },
   "outputs": [],
   "source": [
    "tpot.export('tpot_iris_pipeline.py')"
   ]
  },
  {
   "cell_type": "code",
   "execution_count": null,
   "metadata": {
    "_cell_guid": "95a3ed74-9b01-4cec-ba8b-f89c1e011b13",
    "_uuid": "54d498ab8b5740dcd738767ad38d2c0b556edbda",
    "collapsed": true,
    "jupyter": {
     "outputs_hidden": true
    }
   },
   "outputs": [],
   "source": [
    "!cat tpot_iris_pipeline.py"
   ]
  },
  {
   "cell_type": "code",
   "execution_count": null,
   "metadata": {
    "collapsed": true,
    "jupyter": {
     "outputs_hidden": true
    }
   },
   "outputs": [],
   "source": []
  }
 ],
 "metadata": {
  "kernelspec": {
   "display_name": "Python 3",
   "language": "python",
   "name": "python3"
  },
  "language_info": {
   "codemirror_mode": {
    "name": "ipython",
    "version": 3
   },
   "file_extension": ".py",
   "mimetype": "text/x-python",
   "name": "python",
   "nbconvert_exporter": "python",
   "pygments_lexer": "ipython3",
   "version": "3.7.3"
  }
 },
 "nbformat": 4,
 "nbformat_minor": 4
}
