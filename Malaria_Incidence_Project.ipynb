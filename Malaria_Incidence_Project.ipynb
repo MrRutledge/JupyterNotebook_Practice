{
 "cells": [
  {
   "cell_type": "code",
   "execution_count": 1,
   "metadata": {},
   "outputs": [],
   "source": [
    "%load_ext autoreload\n",
    "%autoreload 2\n",
    "\n",
    "%matplotlib inline"
   ]
  },
  {
   "cell_type": "code",
   "execution_count": 6,
   "metadata": {},
   "outputs": [],
   "source": [
    "import pandas as pd \n",
    "import numpy as np\n",
    "%matplotlib inline\n",
    "import matplotlib.pyplot as plt\n",
    "plt.style.use('seaborn')"
   ]
  },
  {
   "cell_type": "code",
   "execution_count": 7,
   "metadata": {},
   "outputs": [],
   "source": [
    "#from fastai.imports import *"
   ]
  },
  {
   "cell_type": "code",
   "execution_count": 8,
   "metadata": {},
   "outputs": [
    {
     "name": "stdout",
     "output_type": "stream",
     "text": [
      "C:\\Users\\Shaki\\Documents\\GitHub\\JupyterNotebook_Practice\n"
     ]
    }
   ],
   "source": [
    "!cd"
   ]
  },
  {
   "cell_type": "code",
   "execution_count": 9,
   "metadata": {},
   "outputs": [],
   "source": [
    "data = pd.read_csv('Datasets/Africa_Vectors_database_1898-2016.csv', encoding='latin-1')"
   ]
  },
  {
   "cell_type": "code",
   "execution_count": 10,
   "metadata": {},
   "outputs": [
    {
     "data": {
      "text/html": [
       "<div>\n",
       "<style scoped>\n",
       "    .dataframe tbody tr th:only-of-type {\n",
       "        vertical-align: middle;\n",
       "    }\n",
       "\n",
       "    .dataframe tbody tr th {\n",
       "        vertical-align: top;\n",
       "    }\n",
       "\n",
       "    .dataframe thead th {\n",
       "        text-align: right;\n",
       "    }\n",
       "</style>\n",
       "<table border=\"1\" class=\"dataframe\">\n",
       "  <thead>\n",
       "    <tr style=\"text-align: right;\">\n",
       "      <th></th>\n",
       "      <th>Country</th>\n",
       "      <th>GAUL_Admin1</th>\n",
       "      <th>GAUL_Admin2</th>\n",
       "      <th>Full_Name</th>\n",
       "      <th>Lat</th>\n",
       "      <th>Long</th>\n",
       "      <th>LatLong_Source</th>\n",
       "      <th>YeStart</th>\n",
       "      <th>YeEnd</th>\n",
       "      <th>An gambiae_complex</th>\n",
       "      <th>An gambiae ss</th>\n",
       "      <th>SS M Form (An colluzzi or Mopti forms)</th>\n",
       "      <th>SS S Form (savanah or Bamako forms)</th>\n",
       "      <th>An arabiensis</th>\n",
       "      <th>An. melas</th>\n",
       "      <th>An. merus</th>\n",
       "      <th>An bwambae</th>\n",
       "      <th>An funestus  s.l</th>\n",
       "      <th>An funestus s.s. (specified)</th>\n",
       "      <th>An rivulorum</th>\n",
       "      <th>An leesoni</th>\n",
       "      <th>An parensis</th>\n",
       "      <th>An vaneedeni</th>\n",
       "      <th>An nili s.l</th>\n",
       "      <th>An moucheti s.l</th>\n",
       "      <th>An pharoensis</th>\n",
       "      <th>An hancocki</th>\n",
       "      <th>An mascarensis</th>\n",
       "      <th>An marshalli</th>\n",
       "      <th>An squamous</th>\n",
       "      <th>An wellcomei</th>\n",
       "      <th>An rufipes</th>\n",
       "      <th>An coustani s.l</th>\n",
       "      <th>An ziemanni</th>\n",
       "      <th>An paludis</th>\n",
       "      <th>Adults/Larvae</th>\n",
       "      <th>Sampling_Methods</th>\n",
       "      <th>Species_Identification</th>\n",
       "      <th>Other sib species names</th>\n",
       "      <th>Other Anopheline species</th>\n",
       "      <th>Source_Title</th>\n",
       "    </tr>\n",
       "  </thead>\n",
       "  <tbody>\n",
       "    <tr>\n",
       "      <th>0</th>\n",
       "      <td>Angola</td>\n",
       "      <td>Bengo</td>\n",
       "      <td>Dande</td>\n",
       "      <td>Barra do Dande</td>\n",
       "      <td>-8.473</td>\n",
       "      <td>13.362</td>\n",
       "      <td>Encarta</td>\n",
       "      <td>1967</td>\n",
       "      <td>1967</td>\n",
       "      <td>Y</td>\n",
       "      <td>NaN</td>\n",
       "      <td>NaN</td>\n",
       "      <td>NaN</td>\n",
       "      <td>NaN</td>\n",
       "      <td>NaN</td>\n",
       "      <td>NaN</td>\n",
       "      <td>NaN</td>\n",
       "      <td>NaN</td>\n",
       "      <td>NaN</td>\n",
       "      <td>NaN</td>\n",
       "      <td>NaN</td>\n",
       "      <td>NaN</td>\n",
       "      <td>NaN</td>\n",
       "      <td>NaN</td>\n",
       "      <td>NaN</td>\n",
       "      <td>NaN</td>\n",
       "      <td>NaN</td>\n",
       "      <td>NaN</td>\n",
       "      <td>NaN</td>\n",
       "      <td>NaN</td>\n",
       "      <td>NaN</td>\n",
       "      <td>NaN</td>\n",
       "      <td>NaN</td>\n",
       "      <td>NaN</td>\n",
       "      <td>NaN</td>\n",
       "      <td>Adults, Larvae</td>\n",
       "      <td>HLC, HBC, LC</td>\n",
       "      <td>M</td>\n",
       "      <td>NaN</td>\n",
       "      <td>NaN</td>\n",
       "      <td>Ribeiro H &amp; Ramos HC (1975). Research on the m...</td>\n",
       "    </tr>\n",
       "  </tbody>\n",
       "</table>\n",
       "</div>"
      ],
      "text/plain": [
       "  Country                        ...                                                               Source_Title\n",
       "0  Angola                        ...                          Ribeiro H & Ramos HC (1975). Research on the m...\n",
       "\n",
       "[1 rows x 41 columns]"
      ]
     },
     "execution_count": 10,
     "metadata": {},
     "output_type": "execute_result"
    }
   ],
   "source": [
    "data.head(1)"
   ]
  },
  {
   "cell_type": "code",
   "execution_count": 11,
   "metadata": {},
   "outputs": [
    {
     "name": "stdout",
     "output_type": "stream",
     "text": [
      "<class 'pandas.core.frame.DataFrame'>\n",
      "RangeIndex: 13464 entries, 0 to 13463\n",
      "Data columns (total 41 columns):\n",
      "Country                                   13464 non-null object\n",
      "GAUL_Admin1                               13364 non-null object\n",
      "GAUL_Admin2                               13075 non-null object\n",
      "Full_Name                                 13464 non-null object\n",
      "Lat                                       13330 non-null float64\n",
      "Long                                      13330 non-null float64\n",
      "LatLong_Source                            13331 non-null object\n",
      "YeStart                                   13464 non-null int64\n",
      "YeEnd                                     13464 non-null int64\n",
      "An gambiae_complex                        11596 non-null object\n",
      "An gambiae ss                             3990 non-null object\n",
      "SS M Form (An colluzzi or Mopti forms)    1331 non-null object\n",
      "SS S Form (savanah or Bamako forms)       1575 non-null object\n",
      "An arabiensis                             3648 non-null object\n",
      "An. melas                                 538 non-null object\n",
      "An. merus                                 254 non-null object\n",
      "An bwambae                                26 non-null object\n",
      "An funestus  s.l                          5095 non-null object\n",
      "An funestus s.s. (specified)              727 non-null object\n",
      "An rivulorum                              245 non-null object\n",
      "An leesoni                                188 non-null object\n",
      "An parensis                               41 non-null object\n",
      "An vaneedeni                              34 non-null object\n",
      "An nili s.l                               823 non-null object\n",
      "An moucheti s.l                           502 non-null object\n",
      "An pharoensis                             1902 non-null object\n",
      "An hancocki                               298 non-null object\n",
      "An mascarensis                            483 non-null object\n",
      "An marshalli                              444 non-null object\n",
      "An squamous                               1294 non-null object\n",
      "An wellcomei                              272 non-null object\n",
      "An rufipes                                999 non-null object\n",
      "An coustani s.l                           2692 non-null object\n",
      "An ziemanni                               663 non-null object\n",
      "An paludis                                376 non-null object\n",
      "Adults/Larvae                             13464 non-null object\n",
      "Sampling_Methods                          13464 non-null object\n",
      "Species_Identification                    13464 non-null object\n",
      "Other sib species names                   259 non-null object\n",
      "Other Anopheline species                  3118 non-null object\n",
      "Source_Title                              13464 non-null object\n",
      "dtypes: float64(2), int64(2), object(37)\n",
      "memory usage: 4.2+ MB\n"
     ]
    }
   ],
   "source": [
    "data.info()"
   ]
  },
  {
   "cell_type": "code",
   "execution_count": 12,
   "metadata": {},
   "outputs": [
    {
     "data": {
      "text/plain": [
       "<bound method NDFrame.sample of         Country                        ...                                                               Source_Title\n",
       "0        Angola                        ...                          Ribeiro H & Ramos HC (1975). Research on the m...\n",
       "1        Angola                        ...                          Ramos L (1988). Memorandum sent to Director Ge...\n",
       "2        Angola                        ...                          Calzetta M, Santolamazza F, Carrara GC, Cani P...\n",
       "3        Angola                        ...                          Ribeiro H & Ramos HC (1975). Research on the m...\n",
       "4        Angola                        ...                          De Mesquita B (1942). Consideraes sobre o im...\n",
       "5        Angola                        ...                          Gandara AF (1956). Subsido para o estude dos '...\n",
       "6        Angola                        ...                          Ribiero L (1942). Notas sobre aspectos nosogra...\n",
       "7        Angola                        ...                          Boccolini D, Carrara GC, Dia I, Fortes F, Cani...\n",
       "8        Angola                        ...                          Ribeiro H & Ramos HC (1975). Research on the m...\n",
       "9        Angola                        ...                          Ribeiro H & Ramos HC (1975). Research on the m...\n",
       "10       Angola                        ...                          Ribeiro H & Ramos HC (1975). Research on the m...\n",
       "11       Angola                        ...                          Ribeiro H & Ramos HC (1975). Research on the m...\n",
       "12       Angola                        ...                          De Mesquita B (1942). Consideraes sobre o im...\n",
       "13       Angola                        ...                          Ribeiro H & Ramos HC (1975). Research on the m...\n",
       "14       Angola                        ...                          Brosseau L, Drame PM, Besnard P, Toto JC, Foum...\n",
       "15       Angola                        ...                          Brosseau L, Drame PM, Besnard P, Toto JC, Foum...\n",
       "16       Angola                        ...                          Brosseau L, Drame PM, Besnard P, Toto JC, Foum...\n",
       "17       Angola                        ...                          Brosseau L, Drame PM, Besnard P, Toto JC, Foum...\n",
       "18       Angola                        ...                          Brosseau L, Drame PM, Besnard P, Toto JC, Foum...\n",
       "19       Angola                        ...                          Brosseau L, Drame PM, Besnard P, Toto JC, Foum...\n",
       "20       Angola                        ...                          Calzetta M, Santolamazza F, Carrara GC, Cani P...\n",
       "21       Angola                        ...                          Choi KS & Townson H (2012). Evidence for X-lin...\n",
       "22       Angola                        ...                          Ribeiro H, Casaca VMR, Cochofel JALP (1964). A...\n",
       "23       Angola                        ...                          Choi KS & Townson H (2012). Evidence for X-lin...\n",
       "24       Angola                        ...                          Ribeiro H & Ramos HC (1975). Research on the m...\n",
       "25       Angola                        ...                          Ribeiro H & Ramos HC (1975). Research on the m...\n",
       "26       Angola                        ...                          Ribeiro H & Ramos HC (1975). Research on the m...\n",
       "27       Angola                        ...                          Ribeiro H & Ramos HC (1975). Research on the m...\n",
       "28       Angola                        ...                          Gandara AF (1956). Subsido para o estude dos '...\n",
       "29       Angola                        ...                          Toto JC, Besnard P, Le Mire J, Almeida DS, Dos...\n",
       "...         ...                        ...                                                                        ...\n",
       "13434  Zimbabwe                        ...                          Green CA & Hunt RH (1980). Interpretation of v...\n",
       "13435  Zimbabwe                        ...                          Lukwa N, Sande S, Makuwaza A, Chiwade T, Netsa...\n",
       "13436  Zimbabwe                        ...                          Coetzee M, Hunt RH, Braak LEO, Davidson G (199...\n",
       "13437  Zimbabwe                        ...                          Masendu HT, Hunt RH, Koekemoer LL, Brooke BD, ...\n",
       "13438  Zimbabwe                        ...                          McIntosh BM, Harwin RM, Paterson HE, Westwater...\n",
       "13439  Zimbabwe                        ...                          Mahon RJ, Green CA, Hunt RH (1976). Diagnostic...\n",
       "13440  Zimbabwe                        ...                          Hunt RH & Mahon RJ (1986). Collections of Anop...\n",
       "13441  Zimbabwe                        ...                          Masendu HT, Hunt RH, Koekemoer LL, Brooke BD, ...\n",
       "13442  Zimbabwe                        ...                          Coetzee M, Hunt RH, Braak LEO, Davidson G (199...\n",
       "13443  Zimbabwe                        ...                          Masendu HT, Hunt RH, Koekemoer LL, Brooke BD, ...\n",
       "13444  Zimbabwe                        ...                          Masendu HT, Hunt RH, Koekemoer LL, Brooke BD, ...\n",
       "13445  Zimbabwe                        ...                          Reid ET & Woods RW (1957). Anopheline mosquito...\n",
       "13446  Zimbabwe                        ...                          Lukwa N, Sande S, Makuwaza A, Chiwade T, Netsa...\n",
       "13447  Zimbabwe                        ...                          Fornadel C & Norris L (2015). PresidentÕs Mala...\n",
       "13448  Zimbabwe                        ...                          Lukwa N, Sande S, Makuwaza A, Chiwade T, Netsa...\n",
       "13449  Zimbabwe                        ...                          Coetzee M, Hunt RH, Braak LEO, Davidson G (199...\n",
       "13450  Zimbabwe                        ...                          Reid ET & Woods RW (1957). Anopheline mosquito...\n",
       "13451  Zimbabwe                        ...                          Reid ET & Woods RW (1957). Anopheline mosquito...\n",
       "13452  Zimbabwe                        ...                          Manokore V, Murahwa FC, Chirebvu E (2000). Abs...\n",
       "13453  Zimbabwe                        ...                          Leeson HS (1931). Anopheline Mosquitos in Sout...\n",
       "13454  Zimbabwe                        ...                          Masendu HT, Hunt RH, Koekemoer LL, Brooke BD, ...\n",
       "13455  Zimbabwe                        ...                          Manokore V, Murahwa FC, Chirebvu E (2000). Abs...\n",
       "13456  Zimbabwe                        ...                          Lukwa N, Sande S, Makuwaza A, Chiwade T, Netsa...\n",
       "13457  Zimbabwe                        ...                          Fornadel C & Norris L (2015). PresidentÕs Mala...\n",
       "13458  Zimbabwe                        ...                          Munhenga G (2010). Characterisation of resista...\n",
       "13459  Zimbabwe                        ...                          Manokore V, Murahwa FC, Chirebvu E (2000). Abs...\n",
       "13460  Zimbabwe                        ...                          Masendu HT, Hunt RH, Koekemoer LL, Brooke BD, ...\n",
       "13461  Zimbabwe                        ...                          Reid ET & Woods RW (1957). Anopheline mosquito...\n",
       "13462  Zimbabwe                        ...                          Masendu HT, Hunt RH, Koekemoer LL, Brooke BD, ...\n",
       "13463  Zimbabwe                        ...                          Reid ET & Woods RW (1957). Anopheline mosquito...\n",
       "\n",
       "[13464 rows x 41 columns]>"
      ]
     },
     "execution_count": 12,
     "metadata": {},
     "output_type": "execute_result"
    }
   ],
   "source": [
    "data.sample"
   ]
  },
  {
   "cell_type": "code",
   "execution_count": 31,
   "metadata": {},
   "outputs": [
    {
     "data": {
      "text/plain": [
       "Country                                    True\n",
       "GAUL_Admin1                               False\n",
       "GAUL_Admin2                               False\n",
       "Full_Name                                  True\n",
       "Lat                                       False\n",
       "Long                                      False\n",
       "LatLong_Source                            False\n",
       "YeStart                                    True\n",
       "YeEnd                                      True\n",
       "An gambiae_complex                        False\n",
       "An gambiae ss                             False\n",
       "SS M Form (An colluzzi or Mopti forms)    False\n",
       "SS S Form (savanah or Bamako forms)       False\n",
       "An arabiensis                             False\n",
       "An. melas                                 False\n",
       "An. merus                                 False\n",
       "An bwambae                                False\n",
       "An funestus  s.l                          False\n",
       "An funestus s.s. (specified)              False\n",
       "An rivulorum                              False\n",
       "An leesoni                                False\n",
       "An parensis                               False\n",
       "An vaneedeni                              False\n",
       "An nili s.l                               False\n",
       "An moucheti s.l                           False\n",
       "An pharoensis                             False\n",
       "An hancocki                               False\n",
       "An mascarensis                            False\n",
       "An marshalli                              False\n",
       "An squamous                               False\n",
       "An wellcomei                              False\n",
       "An rufipes                                False\n",
       "An coustani s.l                           False\n",
       "An ziemanni                               False\n",
       "An paludis                                False\n",
       "Adults/Larvae                              True\n",
       "Sampling_Methods                           True\n",
       "Species_Identification                     True\n",
       "Other sib species names                   False\n",
       "Other Anopheline species                  False\n",
       "Source_Title                               True\n",
       "dtype: bool"
      ]
     },
     "execution_count": 31,
     "metadata": {},
     "output_type": "execute_result"
    }
   ],
   "source": [
    "data.count() == 13464"
   ]
  },
  {
   "cell_type": "markdown",
   "metadata": {},
   "source": [
    "data.isnull()"
   ]
  },
  {
   "cell_type": "code",
   "execution_count": null,
   "metadata": {},
   "outputs": [],
   "source": [
    " "
   ]
  },
  {
   "cell_type": "code",
   "execution_count": null,
   "metadata": {},
   "outputs": [],
   "source": []
  }
 ],
 "metadata": {
  "kernelspec": {
   "display_name": "Python 3",
   "language": "python",
   "name": "python3"
  },
  "language_info": {
   "codemirror_mode": {
    "name": "ipython",
    "version": 3
   },
   "file_extension": ".py",
   "mimetype": "text/x-python",
   "name": "python",
   "nbconvert_exporter": "python",
   "pygments_lexer": "ipython3",
   "version": "3.6.6"
  }
 },
 "nbformat": 4,
 "nbformat_minor": 2
}
